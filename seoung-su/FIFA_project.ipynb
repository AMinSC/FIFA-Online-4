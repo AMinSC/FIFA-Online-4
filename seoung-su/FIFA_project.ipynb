{
 "cells": [
  {
   "cell_type": "markdown",
   "metadata": {
    "id": "DOuL_vkiXDNe"
   },
   "source": [
    "# 0. selenium 설치"
   ]
  },
  {
   "cell_type": "code",
   "execution_count": 14,
   "metadata": {
    "id": "-gI9vEtqFN-p"
   },
   "outputs": [
    {
     "name": "stdout",
     "output_type": "stream",
     "text": [
      "Requirement already satisfied: chromedriver_autoinstaller in /Users/krc/downloads/yes/envs/dl/lib/python3.8/site-packages (0.3.1)\n"
     ]
    }
   ],
   "source": [
    "!pip install chromedriver_autoinstaller"
   ]
  },
  {
   "cell_type": "code",
   "execution_count": 15,
   "metadata": {},
   "outputs": [
    {
     "name": "stdout",
     "output_type": "stream",
     "text": [
      "Requirement already satisfied: selenium in /Users/krc/downloads/yes/envs/dl/lib/python3.8/site-packages (4.2.0)\n",
      "Requirement already satisfied: trio~=0.17 in /Users/krc/downloads/yes/envs/dl/lib/python3.8/site-packages (from selenium) (0.21.0)\n",
      "Requirement already satisfied: urllib3[secure,socks]~=1.26 in /Users/krc/downloads/yes/envs/dl/lib/python3.8/site-packages (from selenium) (1.26.9)\n",
      "Requirement already satisfied: trio-websocket~=0.9 in /Users/krc/downloads/yes/envs/dl/lib/python3.8/site-packages (from selenium) (0.9.2)\n",
      "Requirement already satisfied: outcome in /Users/krc/downloads/yes/envs/dl/lib/python3.8/site-packages (from trio~=0.17->selenium) (1.2.0)\n",
      "Requirement already satisfied: sniffio in /Users/krc/downloads/yes/envs/dl/lib/python3.8/site-packages (from trio~=0.17->selenium) (1.2.0)\n",
      "Requirement already satisfied: async-generator>=1.9 in /Users/krc/downloads/yes/envs/dl/lib/python3.8/site-packages (from trio~=0.17->selenium) (1.10)\n",
      "Requirement already satisfied: attrs>=19.2.0 in /Users/krc/downloads/yes/envs/dl/lib/python3.8/site-packages (from trio~=0.17->selenium) (21.4.0)\n",
      "Requirement already satisfied: idna in /Users/krc/downloads/yes/envs/dl/lib/python3.8/site-packages (from trio~=0.17->selenium) (3.3)\n",
      "Requirement already satisfied: sortedcontainers in /Users/krc/downloads/yes/envs/dl/lib/python3.8/site-packages (from trio~=0.17->selenium) (2.4.0)\n",
      "Requirement already satisfied: wsproto>=0.14 in /Users/krc/downloads/yes/envs/dl/lib/python3.8/site-packages (from trio-websocket~=0.9->selenium) (1.1.0)\n",
      "Requirement already satisfied: PySocks!=1.5.7,<2.0,>=1.5.6 in /Users/krc/downloads/yes/envs/dl/lib/python3.8/site-packages (from urllib3[secure,socks]~=1.26->selenium) (1.7.1)\n",
      "Requirement already satisfied: pyOpenSSL>=0.14 in /Users/krc/downloads/yes/envs/dl/lib/python3.8/site-packages (from urllib3[secure,socks]~=1.26->selenium) (22.0.0)\n",
      "Requirement already satisfied: certifi in /Users/krc/downloads/yes/envs/dl/lib/python3.8/site-packages (from urllib3[secure,socks]~=1.26->selenium) (2022.6.15)\n",
      "Requirement already satisfied: cryptography>=1.3.4 in /Users/krc/downloads/yes/envs/dl/lib/python3.8/site-packages (from urllib3[secure,socks]~=1.26->selenium) (37.0.2)\n",
      "Requirement already satisfied: cffi>=1.12 in /Users/krc/downloads/yes/envs/dl/lib/python3.8/site-packages (from cryptography>=1.3.4->urllib3[secure,socks]~=1.26->selenium) (1.15.0)\n",
      "Requirement already satisfied: h11<1,>=0.9.0 in /Users/krc/downloads/yes/envs/dl/lib/python3.8/site-packages (from wsproto>=0.14->trio-websocket~=0.9->selenium) (0.13.0)\n",
      "Requirement already satisfied: pycparser in /Users/krc/downloads/yes/envs/dl/lib/python3.8/site-packages (from cffi>=1.12->cryptography>=1.3.4->urllib3[secure,socks]~=1.26->selenium) (2.21)\n"
     ]
    }
   ],
   "source": [
    "!pip install selenium"
   ]
  },
  {
   "cell_type": "markdown",
   "metadata": {
    "id": "tW1J0fafRFh-"
   },
   "source": [
    "# 1. 데이터 불러오기"
   ]
  },
  {
   "cell_type": "code",
   "execution_count": 1,
   "metadata": {
    "colab": {
     "base_uri": "https://localhost:8080/"
    },
    "executionInfo": {
     "elapsed": 12,
     "status": "ok",
     "timestamp": 1668149039379,
     "user": {
      "displayName": "닉넴결정장애",
      "userId": "01530516573951758103"
     },
     "user_tz": -540
    },
    "id": "HRecFu-uYsTV",
    "outputId": "c6318b9a-4cec-4503-d07f-4addf6f0cc84"
   },
   "outputs": [],
   "source": [
    "import numpy as np\n",
    "import pandas as pd\n",
    "import requests # 크롤링에 사용하는 패키지\n",
    "from bs4 import BeautifulSoup # html 변환에 사용함\n",
    "\n",
    "\n",
    "from selenium import webdriver\n",
    "from selenium.webdriver.common.alert import Alert\n",
    "from selenium.webdriver.common.keys import Keys\n",
    "from selenium.webdriver import ActionChains as AC\n",
    "\n",
    "import chromedriver_autoinstaller\n",
    "\n",
    "# tqdm : for문 진행상황 체크\n",
    "from tqdm import tqdm, tqdm_notebook\n",
    "from tqdm.notebook import tqdm\n",
    "\n",
    "\n",
    "# 정규표현식(regular expression) : 문자(알파벳,한글), 숫자, 특수기호 정제 및 추출\n",
    "import re\n",
    "from time import sleep\n",
    "import time\n",
    "\n",
    "\n",
    "# 워닝 무시\n",
    "import warnings\n",
    "warnings.filterwarnings('ignore')"
   ]
  },
  {
   "cell_type": "markdown",
   "metadata": {
    "id": "Lmcte0tMRFiA"
   },
   "source": [
    "# 2. 데이터 크롤링"
   ]
  },
  {
   "cell_type": "markdown",
   "metadata": {},
   "source": [
    "##### 참고\n"
   ]
  },
  {
   "cell_type": "markdown",
   "metadata": {},
   "source": [
    "\n",
    "- find_elements_by_tag_name:          Copy Element의 tag\n",
    "- find_elements_by_xpath:             Copy XPath 또는 Copy full XPath\n",
    "- find_elements_by_id:                Copy Element의 id attribute\n",
    "- find_elements_by_class_name:        Copy Element의 class attribute\n",
    "- find_elements_by_link_text:         Copy Element의 text\n",
    "- find_elements_by_partial_link_text: Copy Element의 text중 일부\n",
    "- find_elements_by_css_selector:      Copy selector\n",
    "\n",
    "\n",
    "- '요소' 클릭:        \t.click('')   \n",
    "- '요소' 더블 클릭:\t     .double_click('')   \n",
    "- '텍스트' 입력:\t         .send_keys('')  \n",
    "- '요소'에 '텍스트' 입력:\t  .send_keys_to_element('','')  \n",
    "- '요소'로 마우스 이동:\t  .move_to_element('')\n",
    "- 스크롤 내리기:\t         .execute_script(\"window.scrollto();\")\n",
    "- 실행:                  .perform()"
   ]
  },
  {
   "cell_type": "code",
   "execution_count": 2,
   "metadata": {},
   "outputs": [],
   "source": [
    "## 크롬 윈도우 설정\n",
    "# 크롬 드라이버 위치 설정\n",
    "chrome_path = chromedriver_autoinstaller.install()\n",
    "\n",
    "\n",
    "# 크롬 옵션\n",
    "options = webdriver.ChromeOptions()\n",
    "# 크롬 윈도우 사이즈 조절\n",
    "options.add_argument(\"--window-size=700,1400\")\n",
    "\n",
    "driver = webdriver.Chrome(chrome_path, options=options)\n",
    "\n",
    "# 실행할 시간 랜덤값 지정\n",
    "A = np.random.randint(1,3)"
   ]
  },
  {
   "cell_type": "markdown",
   "metadata": {
    "id": "CZdx-_oASEHC"
   },
   "source": [
    "## 2-1. 선수 데이터 크롤링\n"
   ]
  },
  {
   "cell_type": "markdown",
   "metadata": {},
   "source": [
    "- 선수명\n",
    "- 급여\n",
    "- 키\n",
    "- 몸무게\n",
    "- 체형\n",
    "- 개인기\n",
    "- 주발\n",
    "- 오버롤 + 전체 스텟\n",
    "- 시세(일별 금액)\n",
    "- 클럽경력\n",
    "- 팀컬러 (팀, 특성, 강화)\n",
    "\n",
    "*시세의 경우 각 강화 등급별 크롤링! (나머지 값은 후처리로 기입)"
   ]
  },
  {
   "cell_type": "code",
   "execution_count": 3,
   "metadata": {},
   "outputs": [
    {
     "data": {
      "text/html": [
       "<div>\n",
       "<style scoped>\n",
       "    .dataframe tbody tr th:only-of-type {\n",
       "        vertical-align: middle;\n",
       "    }\n",
       "\n",
       "    .dataframe tbody tr th {\n",
       "        vertical-align: top;\n",
       "    }\n",
       "\n",
       "    .dataframe thead th {\n",
       "        text-align: right;\n",
       "    }\n",
       "</style>\n",
       "<table border=\"1\" class=\"dataframe\">\n",
       "  <thead>\n",
       "    <tr style=\"text-align: right;\">\n",
       "      <th></th>\n",
       "      <th>id</th>\n",
       "      <th>play_name</th>\n",
       "    </tr>\n",
       "  </thead>\n",
       "  <tbody>\n",
       "    <tr>\n",
       "      <th>0</th>\n",
       "      <td>0</td>\n",
       "      <td>데이비드 시먼</td>\n",
       "    </tr>\n",
       "    <tr>\n",
       "      <th>1</th>\n",
       "      <td>1</td>\n",
       "      <td>앨런 시어러</td>\n",
       "    </tr>\n",
       "    <tr>\n",
       "      <th>2</th>\n",
       "      <td>2</td>\n",
       "      <td>로비 파울러</td>\n",
       "    </tr>\n",
       "    <tr>\n",
       "      <th>3</th>\n",
       "      <td>3</td>\n",
       "      <td>로이 킨</td>\n",
       "    </tr>\n",
       "    <tr>\n",
       "      <th>4</th>\n",
       "      <td>4</td>\n",
       "      <td>라이언 긱스</td>\n",
       "    </tr>\n",
       "    <tr>\n",
       "      <th>...</th>\n",
       "      <td>...</td>\n",
       "      <td>...</td>\n",
       "    </tr>\n",
       "    <tr>\n",
       "      <th>59046</th>\n",
       "      <td>59046</td>\n",
       "      <td>A. 크나우프</td>\n",
       "    </tr>\n",
       "    <tr>\n",
       "      <th>59047</th>\n",
       "      <td>59047</td>\n",
       "      <td>K. 야키치</td>\n",
       "    </tr>\n",
       "    <tr>\n",
       "      <th>59048</th>\n",
       "      <td>59048</td>\n",
       "      <td>M. 구스토</td>\n",
       "    </tr>\n",
       "    <tr>\n",
       "      <th>59049</th>\n",
       "      <td>59049</td>\n",
       "      <td>G. 마마르다슈빌리</td>\n",
       "    </tr>\n",
       "    <tr>\n",
       "      <th>59050</th>\n",
       "      <td>59050</td>\n",
       "      <td>반데르송</td>\n",
       "    </tr>\n",
       "  </tbody>\n",
       "</table>\n",
       "<p>59051 rows × 2 columns</p>\n",
       "</div>"
      ],
      "text/plain": [
       "          id   play_name\n",
       "0          0     데이비드 시먼\n",
       "1          1      앨런 시어러\n",
       "2          2      로비 파울러\n",
       "3          3        로이 킨\n",
       "4          4      라이언 긱스\n",
       "...      ...         ...\n",
       "59046  59046     A. 크나우프\n",
       "59047  59047      K. 야키치\n",
       "59048  59048      M. 구스토\n",
       "59049  59049  G. 마마르다슈빌리\n",
       "59050  59050        반데르송\n",
       "\n",
       "[59051 rows x 2 columns]"
      ]
     },
     "execution_count": 3,
     "metadata": {},
     "output_type": "execute_result"
    }
   ],
   "source": [
    "# 선수명 csv파일 불러오기\n",
    "data = pd.read_csv('./data/player.csv')\n",
    "data"
   ]
  },
  {
   "cell_type": "code",
   "execution_count": 10,
   "metadata": {
    "colab": {
     "base_uri": "https://localhost:8080/",
     "height": 49,
     "referenced_widgets": [
      "0f98a68653234bc9831f51c868631a48",
      "c88f5a8bb3124b1aa3882d8e0055773e",
      "654addbc01924b6e88bceaab9f51be91",
      "7bbd990e34a54110b4a7aed2363c8948",
      "60927d73c09d4c339a3d1b2b0d5186b9",
      "55ff4925449846deb228db9d17e7264a",
      "85966676e9c2480f8c09777f9f3345b5",
      "d1f963de710f43cfb773dfe32491e80a",
      "ca5a4066cf8542e5beb378885a8702f0",
      "5015e331c2a5431bbca0286aaee31d80",
      "38a17b480f8244b39169cc0e3afb0deb"
     ]
    },
    "executionInfo": {
     "elapsed": 589,
     "status": "ok",
     "timestamp": 1668149916292,
     "user": {
      "displayName": "닉넴결정장애",
      "userId": "01530516573951758103"
     },
     "user_tz": -540
    },
    "id": "T8lTo20aRFiB",
    "outputId": "d27090c2-1d64-43d7-b7d1-800fa736960d",
    "scrolled": true
   },
   "outputs": [
    {
     "data": {
      "application/vnd.jupyter.widget-view+json": {
       "model_id": "5d1d1d28fe43407b8121cd7230fe8d4b",
       "version_major": 2,
       "version_minor": 0
      },
      "text/plain": [
       "  0%|          | 0/5 [00:00<?, ?it/s]"
      ]
     },
     "metadata": {},
     "output_type": "display_data"
    },
    {
     "name": "stdout",
     "output_type": "stream",
     "text": [
      "error\n"
     ]
    }
   ],
   "source": [
    "# 선수 데이터 크롤링\n",
    "'''\n",
    "# 크롤링한 결과를 저장할 리스트\n",
    "name_list = []\n",
    "salary_list = []\n",
    "height_list = []\n",
    "weight_list = []\n",
    "skill_list = []\n",
    "prefer_foot = []\n",
    "overall_list = []\n",
    "stat_list = []\n",
    "price_list = []\n",
    "club_list = []\n",
    "teamcolor_list = []\n",
    "\n",
    "\n",
    "\n",
    "\n",
    "\n",
    "for player_name in tqdm(data['play_name'][:5]):\n",
    "    try:   \n",
    "        chrome_path = chromedriver_autoinstaller.install()\n",
    "        driver = webdriver.Chrome(chrome_path, options=options)\n",
    "        driver.get('https://fifaonline4.nexon.com/datacenter')\n",
    "        time.sleep(A)\n",
    "        \n",
    "        # 선수명 입력\n",
    "        driver.find_elements_by_css_selector('#searchName').click()\n",
    "        driver.find_element_by_name('strPlayerName').send_keys(f'{player_name}')\n",
    "        driver.find_elements_by_css_selector('#form1 > div.search_panel > div.search_input_submit > button.btn_search').click()\n",
    "        time.sleep(A)\n",
    "        \n",
    "    except:\n",
    "        print('error')\n",
    "        break\n",
    "        \n",
    "'''\n"
   ]
  },
  {
   "cell_type": "markdown",
   "metadata": {},
   "source": [
    "## 2-2. 팀 컬러 크롤링\n",
    "\n"
   ]
  },
  {
   "cell_type": "markdown",
   "metadata": {},
   "source": [
    "- 팀 컬러 명\n",
    "- 단계\n",
    "- 적용 효과\n",
    "\n",
    "*특성 팀 컬러의 경우'적용 선수' 추가"
   ]
  },
  {
   "cell_type": "code",
   "execution_count": 6,
   "metadata": {},
   "outputs": [
    {
     "data": {
      "application/vnd.jupyter.widget-view+json": {
       "model_id": "c44f63cb2bc843f2a56eea7dbdefb40d",
       "version_major": 2,
       "version_minor": 0
      },
      "text/plain": [
       "  0%|          | 0/5 [00:00<?, ?it/s]"
      ]
     },
     "metadata": {},
     "output_type": "display_data"
    }
   ],
   "source": [
    "## 팀 컬러 목록 크롤링\n",
    "# 팀 컬러 타입 리스트\n",
    "teamcolor_club = []\n",
    "teamcolor_nation = []\n",
    "teamcolor_reinforce = []\n",
    "teamcolor_relation = []\n",
    "teamcolor_special =[]\n",
    "\n",
    "\n",
    "# 홈페이지 열기\n",
    "url = 'https://fifaonline4.nexon.com/datacenter/teamcolor?strTeamColorCategory=&strTeamColorType=&strTeamColorName='\n",
    "driver.get(url)\n",
    "time.sleep(A)\n",
    "\n",
    "\n",
    "# 팝업창 닫기\n",
    "driver.find_element_by_xpath('//*[@id=\"wrapper\"]/div[1]/a/span').click()\n",
    "time.sleep(A)\n",
    "\n",
    "# 팀 컬러 정보 목록 저장\n",
    "for x in tqdm(range(2,7)):\n",
    "        driver.find_element_by_xpath(f'//*[@id=\"sForm\"]/div[3]/div[2]/div[2]/div/div/div[{x}]/label').click()\n",
    "        time.sleep(A)\n",
    "        \n",
    "\n",
    "        ## 클럽\n",
    "        if x == 2:\n",
    "                driver.find_element_by_class_name('btn_search').click()\n",
    "                time.sleep(A)\n",
    "\n",
    "                locates = 'div.name'\n",
    "                elements = driver.find_elements_by_css_selector(locates)\n",
    "\n",
    "                for element in elements:\n",
    "                        teamcolor_club.append(element.text)\n",
    "                \n",
    "        elif x == 3:\n",
    "                driver.find_element_by_class_name('btn_search').click()\n",
    "                time.sleep(A)\n",
    "\n",
    "                locates = 'div.name'\n",
    "                elements = driver.find_elements_by_css_selector(locates)\n",
    "\n",
    "                for element in elements:\n",
    "                        teamcolor_nation.append(element.text)\n",
    "        \n",
    "        elif x == 4:\n",
    "                driver.find_element_by_class_name('btn_search').click()\n",
    "                time.sleep(A)\n",
    "\n",
    "                locates = 'div.name'\n",
    "                elements = driver.find_elements_by_css_selector(locates)\n",
    "\n",
    "                for element in elements:\n",
    "                        teamcolor_reinforce.append(element.text)\n",
    "                        \n",
    "        elif x == 5:\n",
    "                driver.find_element_by_class_name('btn_search').click()\n",
    "                time.sleep(A)\n",
    "\n",
    "                locates = 'div.name'\n",
    "                elements = driver.find_elements_by_css_selector(locates)\n",
    "\n",
    "                for element in elements:\n",
    "                        teamcolor_relation.append(element.text)\n",
    "                        \n",
    "        elif x == 6:\n",
    "                driver.find_element_by_class_name('btn_search').click()\n",
    "                time.sleep(A)\n",
    "\n",
    "                locates = 'div.name'\n",
    "                elements = driver.find_elements_by_css_selector(locates)\n",
    "\n",
    "                for element in elements:\n",
    "                        teamcolor_special.append(element.text)\n",
    "        \n",
    "        else:\n",
    "                print('not in range')\n",
    "        \n",
    "        driver.find_element_by_class_name('btn_reset').click()\n",
    "        time.sleep(A)\n",
    "        "
   ]
  },
  {
   "cell_type": "code",
   "execution_count": 18,
   "metadata": {},
   "outputs": [],
   "source": [
    "# 팀 컬러 목록 데이터 프레임 저장\n",
    "TC_club = pd.DataFrame(data = teamcolor_club, columns = ['team color'])\n",
    "TC_nation = pd.DataFrame(data = teamcolor_nation, columns = ['team color'])\n",
    "TC_reinforce = pd.DataFrame(data = teamcolor_reinforce, columns = ['team color'])\n",
    "TC_relation = pd.DataFrame(data = teamcolor_relation, columns = ['team color'])\n",
    "TC_special = pd.DataFrame(data = teamcolor_special, columns = ['team color'])\n",
    "\n",
    "# csv로 파일 저장\n",
    "TC_club.to_csv(\"TC_club.csv\", encoding='utf-8-sig', index = False)\n",
    "TC_nation.to_csv(\"TC_nation.csv\", encoding='utf-8-sig', index = False)\n",
    "TC_reinforce.to_csv(\"TC_reinforce.csv\", encoding='utf-8-sig', index = False)\n",
    "TC_relation.to_csv(\"TC_relation.csv\", encoding='utf-8-sig', index = False)\n",
    "TC_special.to_csv(\"TC_special.csv\", encoding='utf-8-sig', index = False)\n"
   ]
  },
  {
   "cell_type": "code",
   "execution_count": 112,
   "metadata": {},
   "outputs": [],
   "source": [
    "# csv 파일 불러오기\n",
    "TC_club = pd.read_csv('./data/TC_club.csv')\n",
    "TC_nation = pd.read_csv('./data/TC_nation.csv')\n",
    "TC_reinforce = pd.read_csv('./data/TC_reinforce.csv')\n",
    "TC_relation = pd.read_csv('./data/TC_relation.csv')\n",
    "TC_special = pd.read_csv('./data/TC_special.csv')"
   ]
  },
  {
   "cell_type": "code",
   "execution_count": 8,
   "metadata": {},
   "outputs": [],
   "source": [
    "# 팀 컬러 타입 모음\n",
    "teamcolor_type = [teamcolor_club,teamcolor_nation,teamcolor_relation,teamcolor_special,teamcolor_reinforce]\n",
    "#teamcolor_type = [TC_club,TC_nation,TC_relation,TC_special,TC_reinforce]\n"
   ]
  },
  {
   "cell_type": "code",
   "execution_count": 12,
   "metadata": {},
   "outputs": [
    {
     "data": {
      "application/vnd.jupyter.widget-view+json": {
       "model_id": "765d9a4e9c304ba2adb88232cec0a742",
       "version_major": 2,
       "version_minor": 0
      },
      "text/plain": [
       "  0%|          | 0/5 [00:00<?, ?it/s]"
      ]
     },
     "metadata": {},
     "output_type": "display_data"
    },
    {
     "data": {
      "application/vnd.jupyter.widget-view+json": {
       "model_id": "0b0d7c685e1b469ba876913e102f8f83",
       "version_major": 2,
       "version_minor": 0
      },
      "text/plain": [
       "  0%|          | 0/192 [00:00<?, ?it/s]"
      ]
     },
     "metadata": {},
     "output_type": "display_data"
    },
    {
     "name": "stdout",
     "output_type": "stream",
     "text": [
      "error: 팀 컬러 선택 & 상세 정보 클릭\n"
     ]
    },
    {
     "ename": "ValueError",
     "evalue": "All arrays must be of the same length",
     "output_type": "error",
     "traceback": [
      "\u001b[0;31m---------------------------------------------------------------------------\u001b[0m",
      "\u001b[0;31mValueError\u001b[0m                                Traceback (most recent call last)",
      "\u001b[1;32m/Users/krc/Desktop/FIFA-Online-4/seoung-su/FIFA_project.ipynb 셀 20\u001b[0m in \u001b[0;36m<cell line: 8>\u001b[0;34m()\u001b[0m\n\u001b[1;32m    <a href='vscode-notebook-cell:/Users/krc/Desktop/FIFA-Online-4/seoung-su/FIFA_project.ipynb#X26sZmlsZQ%3D%3D?line=147'>148</a>\u001b[0m columns \u001b[39m=\u001b[39m [\u001b[39m'\u001b[39m\u001b[39m팀 컬러\u001b[39m\u001b[39m'\u001b[39m,\u001b[39m'\u001b[39m\u001b[39m팀 컬러 설명\u001b[39m\u001b[39m'\u001b[39m,\u001b[39m'\u001b[39m\u001b[39m1단계 적용 조건\u001b[39m\u001b[39m'\u001b[39m,\u001b[39m'\u001b[39m\u001b[39m2단계 적용 조건\u001b[39m\u001b[39m'\u001b[39m,\u001b[39m'\u001b[39m\u001b[39m3단계 적용 조건\u001b[39m\u001b[39m'\u001b[39m,\u001b[39m'\u001b[39m\u001b[39m4단계 적용 조건\u001b[39m\u001b[39m'\u001b[39m,\u001b[39m'\u001b[39m\u001b[39m1단계 효과\u001b[39m\u001b[39m'\u001b[39m,\u001b[39m'\u001b[39m\u001b[39m2단계 효과\u001b[39m\u001b[39m'\u001b[39m,\u001b[39m'\u001b[39m\u001b[39m3단계 효과\u001b[39m\u001b[39m'\u001b[39m,\u001b[39m'\u001b[39m\u001b[39m4단계 효과\u001b[39m\u001b[39m'\u001b[39m]\n\u001b[1;32m    <a href='vscode-notebook-cell:/Users/krc/Desktop/FIFA-Online-4/seoung-su/FIFA_project.ipynb#X26sZmlsZQ%3D%3D?line=149'>150</a>\u001b[0m teamcolor_naming \u001b[39m=\u001b[39m [\u001b[39m'\u001b[39m\u001b[39m클럽_팀_컬러\u001b[39m\u001b[39m'\u001b[39m,\u001b[39m'\u001b[39m\u001b[39m국가_팀_컬러\u001b[39m\u001b[39m'\u001b[39m,\u001b[39m'\u001b[39m\u001b[39m관계_팀_컬러\u001b[39m\u001b[39m'\u001b[39m,\u001b[39m'\u001b[39m\u001b[39m스페셜_팀_컬러\u001b[39m\u001b[39m'\u001b[39m,\u001b[39m'\u001b[39m\u001b[39m강화_팀_컬러\u001b[39m\u001b[39m'\u001b[39m]\n\u001b[0;32m--> <a href='vscode-notebook-cell:/Users/krc/Desktop/FIFA-Online-4/seoung-su/FIFA_project.ipynb#X26sZmlsZQ%3D%3D?line=151'>152</a>\u001b[0m \u001b[39mglobals\u001b[39m()[\u001b[39mf\u001b[39m\u001b[39m'\u001b[39m\u001b[39mdf_\u001b[39m\u001b[39m{\u001b[39;00mteamcolor_naming[count]\u001b[39m}\u001b[39;00m\u001b[39m'\u001b[39m] \u001b[39m=\u001b[39m pd\u001b[39m.\u001b[39;49mDataFrame(data \u001b[39m=\u001b[39;49m dict_temp, columns\u001b[39m=\u001b[39;49mcolumns)\n\u001b[1;32m    <a href='vscode-notebook-cell:/Users/krc/Desktop/FIFA-Online-4/seoung-su/FIFA_project.ipynb#X26sZmlsZQ%3D%3D?line=153'>154</a>\u001b[0m \u001b[39m# csv파일로 저장\u001b[39;00m\n\u001b[1;32m    <a href='vscode-notebook-cell:/Users/krc/Desktop/FIFA-Online-4/seoung-su/FIFA_project.ipynb#X26sZmlsZQ%3D%3D?line=154'>155</a>\u001b[0m \u001b[39m# globals()[f'df_{teamcolor_naming[count]}'].to_csv(f'{teamcolor_naming[count]}', encoding='utf-8-sig', index = False)\u001b[39;00m\n\u001b[1;32m    <a href='vscode-notebook-cell:/Users/krc/Desktop/FIFA-Online-4/seoung-su/FIFA_project.ipynb#X26sZmlsZQ%3D%3D?line=156'>157</a>\u001b[0m count \u001b[39m+\u001b[39m\u001b[39m=\u001b[39m \u001b[39m1\u001b[39m\n",
      "File \u001b[0;32m~/downloads/yes/envs/dl/lib/python3.8/site-packages/pandas/core/frame.py:636\u001b[0m, in \u001b[0;36mDataFrame.__init__\u001b[0;34m(self, data, index, columns, dtype, copy)\u001b[0m\n\u001b[1;32m    630\u001b[0m     mgr \u001b[39m=\u001b[39m \u001b[39mself\u001b[39m\u001b[39m.\u001b[39m_init_mgr(\n\u001b[1;32m    631\u001b[0m         data, axes\u001b[39m=\u001b[39m{\u001b[39m\"\u001b[39m\u001b[39mindex\u001b[39m\u001b[39m\"\u001b[39m: index, \u001b[39m\"\u001b[39m\u001b[39mcolumns\u001b[39m\u001b[39m\"\u001b[39m: columns}, dtype\u001b[39m=\u001b[39mdtype, copy\u001b[39m=\u001b[39mcopy\n\u001b[1;32m    632\u001b[0m     )\n\u001b[1;32m    634\u001b[0m \u001b[39melif\u001b[39;00m \u001b[39misinstance\u001b[39m(data, \u001b[39mdict\u001b[39m):\n\u001b[1;32m    635\u001b[0m     \u001b[39m# GH#38939 de facto copy defaults to False only in non-dict cases\u001b[39;00m\n\u001b[0;32m--> 636\u001b[0m     mgr \u001b[39m=\u001b[39m dict_to_mgr(data, index, columns, dtype\u001b[39m=\u001b[39;49mdtype, copy\u001b[39m=\u001b[39;49mcopy, typ\u001b[39m=\u001b[39;49mmanager)\n\u001b[1;32m    637\u001b[0m \u001b[39melif\u001b[39;00m \u001b[39misinstance\u001b[39m(data, ma\u001b[39m.\u001b[39mMaskedArray):\n\u001b[1;32m    638\u001b[0m     \u001b[39mimport\u001b[39;00m \u001b[39mnumpy\u001b[39;00m\u001b[39m.\u001b[39;00m\u001b[39mma\u001b[39;00m\u001b[39m.\u001b[39;00m\u001b[39mmrecords\u001b[39;00m \u001b[39mas\u001b[39;00m \u001b[39mmrecords\u001b[39;00m\n",
      "File \u001b[0;32m~/downloads/yes/envs/dl/lib/python3.8/site-packages/pandas/core/internals/construction.py:450\u001b[0m, in \u001b[0;36mdict_to_mgr\u001b[0;34m(data, index, columns, dtype, typ, copy)\u001b[0m\n\u001b[1;32m    446\u001b[0m missing \u001b[39m=\u001b[39m arrays\u001b[39m.\u001b[39misna()\n\u001b[1;32m    447\u001b[0m \u001b[39mif\u001b[39;00m index \u001b[39mis\u001b[39;00m \u001b[39mNone\u001b[39;00m:\n\u001b[1;32m    448\u001b[0m     \u001b[39m# GH10856\u001b[39;00m\n\u001b[1;32m    449\u001b[0m     \u001b[39m# raise ValueError if only scalars in dict\u001b[39;00m\n\u001b[0;32m--> 450\u001b[0m     index \u001b[39m=\u001b[39m _extract_index(arrays[\u001b[39m~\u001b[39;49mmissing])\n\u001b[1;32m    451\u001b[0m \u001b[39melse\u001b[39;00m:\n\u001b[1;32m    452\u001b[0m     index \u001b[39m=\u001b[39m ensure_index(index)\n",
      "File \u001b[0;32m~/downloads/yes/envs/dl/lib/python3.8/site-packages/pandas/core/internals/construction.py:674\u001b[0m, in \u001b[0;36m_extract_index\u001b[0;34m(data)\u001b[0m\n\u001b[1;32m    672\u001b[0m lengths \u001b[39m=\u001b[39m \u001b[39mlist\u001b[39m(\u001b[39mset\u001b[39m(raw_lengths))\n\u001b[1;32m    673\u001b[0m \u001b[39mif\u001b[39;00m \u001b[39mlen\u001b[39m(lengths) \u001b[39m>\u001b[39m \u001b[39m1\u001b[39m:\n\u001b[0;32m--> 674\u001b[0m     \u001b[39mraise\u001b[39;00m \u001b[39mValueError\u001b[39;00m(\u001b[39m\"\u001b[39m\u001b[39mAll arrays must be of the same length\u001b[39m\u001b[39m\"\u001b[39m)\n\u001b[1;32m    676\u001b[0m \u001b[39mif\u001b[39;00m have_dicts:\n\u001b[1;32m    677\u001b[0m     \u001b[39mraise\u001b[39;00m \u001b[39mValueError\u001b[39;00m(\n\u001b[1;32m    678\u001b[0m         \u001b[39m\"\u001b[39m\u001b[39mMixing dicts with non-Series may lead to ambiguous ordering.\u001b[39m\u001b[39m\"\u001b[39m\n\u001b[1;32m    679\u001b[0m     )\n",
      "\u001b[0;31mValueError\u001b[0m: All arrays must be of the same length"
     ]
    }
   ],
   "source": [
    "## 팀 컬러 타입 별 적용 조건 & 효과 저장\n",
    "# 홈페이지 열기\n",
    "url = 'https://fifaonline4.nexon.com/datacenter/teamcolor?strTeamColorCategory=&strTeamColorType=&strTeamColorName='\n",
    "driver.get(url)\n",
    "\n",
    "count = 0\n",
    "\n",
    "for teamcolors in tqdm(teamcolor_type):\n",
    "   # 크롤링한 결과를 저장할 리스트\n",
    "   teamcolor_info = []\n",
    "   step_1_require_player_nums = []\n",
    "   step_2_require_player_nums = []\n",
    "   step_3_require_player_nums = []\n",
    "   step_4_require_player_nums = []\n",
    "   step_1_effects = []\n",
    "   step_2_effects = []\n",
    "   step_3_effects = []\n",
    "   step_4_effects = []\n",
    "   \n",
    "   for x in tqdm(teamcolors):\n",
    "      # # 팝업창 닫기\n",
    "      # driver.find_element_by_xpath('//*[@id=\"wrapper\"]/div[1]/a/span').click()\n",
    "      # time.sleep(A)\n",
    "      try:\n",
    "         \n",
    "         # 팀 컬러 타입 선택\n",
    "         if teamcolors == teamcolor_club:\n",
    "            driver.find_element_by_xpath('//*[@id=\"sForm\"]/div[3]/div[2]/div[2]/div/div/div[2]/label').click()\n",
    "         elif teamcolors == teamcolor_nation:\n",
    "            driver.find_element_by_xpath('//*[@id=\"sForm\"]/div[3]/div[2]/div[2]/div/div/div[3]/label').click() \n",
    "         elif teamcolors == teamcolor_relation:\n",
    "            driver.find_element_by_xpath('//*[@id=\"sForm\"]/div[3]/div[2]/div[2]/div/div/div[5]/label').click() \n",
    "         elif teamcolors == teamcolor_special:\n",
    "            driver.find_element_by_xpath('//*[@id=\"sForm\"]/div[3]/div[2]/div[2]/div/div/div[6]/label').click()  \n",
    "         elif teamcolors == teamcolor_reinforce:\n",
    "            driver.find_element_by_xpath('//*[@id=\"sForm\"]/div[3]/div[2]/div[2]/div/div/div[4]/label').click()\n",
    "         time.sleep(1)\n",
    "         \n",
    "         \n",
    "         # 팀 컬러 입력 & 검색\n",
    "         driver.find_element_by_class_name('ui-autocomplete-input').click()\n",
    "         driver.find_element_by_class_name('ui-autocomplete-input').send_keys(x)\n",
    "         driver.find_element_by_class_name('btn_search').click()\n",
    "         time.sleep(A)\n",
    "         \n",
    "         \n",
    "         # 단계 추출 (for 문 돌릴 갯수 정하기 용도)\n",
    "         number = driver.find_element_by_css_selector('div.teamcolor_item_list > div > div.level').text\n",
    "         number = int(number.replace('단계',''))\n",
    "\n",
    "\n",
    "         # 세부 설명 들어가기\n",
    "         driver.find_element_by_class_name('name').click()\n",
    "         driver.find_element_by_class_name('btn_detail_link').click()\n",
    "         time.sleep(A) \n",
    "\n",
    "\n",
    "         # 팀 컬러 설명 저장\n",
    "         info = driver.find_element_by_css_selector('#teamcolorPop > div > div.header > div > span').text\n",
    "         teamcolor_info.append(info)\n",
    "         time.sleep(1)\n",
    "         \n",
    "         # 단계 별 적용 조건 & 적용 효과 저장\n",
    "         for num in range(1,5):\n",
    "            # 1단계\n",
    "            if num == 1:\n",
    "               temp_1 = driver.find_element_by_css_selector(f'div.level.lv{num} > div.lv_content > div.desc').text\n",
    "               temp_2 = driver.find_element_by_css_selector(f'div.level.lv{num} > div.lv_content > div.ap_list').text\n",
    "               temp_2_2 = temp_2.replace('\\n',' / ').replace('-','')\n",
    "            \n",
    "               step_1_require_player_nums.append(temp_1)\n",
    "               step_1_effects.append(temp_2_2)\n",
    "\n",
    "            # 2단계\n",
    "            elif num == 2:\n",
    "               if num <= number:\n",
    "                  temp_1 = driver.find_element_by_css_selector(f'div.level.lv{num} > div.lv_content > div.desc').text\n",
    "                  temp_2 = driver.find_element_by_css_selector(f'div.level.lv{num} > div.lv_content > div.ap_list').text\n",
    "                  temp_2_2 = temp_2.replace('\\n',' / ').replace('-','')\n",
    "                  \n",
    "                  step_2_require_player_nums.append(temp_1)\n",
    "                  step_2_effects.append(temp_2_2)\n",
    "                  \n",
    "               else:\n",
    "                  step_2_require_player_nums.append('-')\n",
    "                  step_2_effects.append('-') \n",
    "               \n",
    "            # 3단계\n",
    "            elif num == 3:\n",
    "               if num <= number:\n",
    "                  temp_1 = driver.find_element_by_css_selector(f'div.level.lv{num} > div.lv_content > div.desc').text\n",
    "                  temp_2 = driver.find_element_by_css_selector(f'div.level.lv{num} > div.lv_content > div.ap_list').text\n",
    "                  temp_2_2 = temp_2.replace('\\n',' / ').replace('-','')\n",
    "                  \n",
    "                  step_3_require_player_nums.append(temp_1)\n",
    "                  step_3_effects.append(temp_2_2)\n",
    "                  \n",
    "               else:\n",
    "                  step_3_require_player_nums.append('-')\n",
    "                  step_3_effects.append('-') \n",
    "\n",
    "            # 4단계\n",
    "            elif num == 4:\n",
    "               if num <= number:\n",
    "                  temp_1 = driver.find_element_by_css_selector(f'div.level.lv{num} > div.lv_content > div.desc').text\n",
    "                  temp_2 = driver.find_element_by_css_selector(f'div.level.lv{num} > div.lv_content > div.ap_list').text\n",
    "                  temp_2_2 = temp_2.replace('\\n',' / ').replace('-','')\n",
    "                  \n",
    "                  step_4_require_player_nums.append(temp_1)\n",
    "                  step_4_effects.append(temp_2_2)\n",
    "                  \n",
    "               else:\n",
    "                  step_4_require_player_nums.append('-')\n",
    "                  step_4_effects.append('-') \n",
    "         \n",
    "            else:\n",
    "               print('error')\n",
    "               \n",
    "            time.sleep(1)\n",
    "            \n",
    "         # 세부 설명 나오기\n",
    "         driver.find_element_by_class_name('btn_close').click()\n",
    "         time.sleep(1)\n",
    "\n",
    "         # 검색어 초기화 \n",
    "         driver.find_element_by_class_name('btn_reset').click()\n",
    "         time.sleep(1)\n",
    "      \n",
    "      except:\n",
    "         print('error: 팀 컬러 선택 & 상세 정보 클릭')\n",
    "         break\n",
    "      \n",
    "   \n",
    "   \n",
    "   ## 팀 컬러 하나 완료하면 csv로 저장            \n",
    "   # dict로 변형 & 데이터 프레임화\n",
    "   dict_temp = {  '팀 컬러': [val for val in teamcolors],\n",
    "                  '팀 컬러 설명': [val for val in teamcolor_info],             \n",
    "                  '1단계 적용 조건': [val for val in step_1_require_player_nums],\n",
    "                  '2단계 적용 조건': [val for val in step_2_require_player_nums],\n",
    "                  '3단계 적용 조건': [val for val in step_3_require_player_nums],\n",
    "                  '4단계 적용 조건': [val for val in step_4_require_player_nums],\n",
    "                  '1단계 효과': [val for val in step_1_effects], \n",
    "                  '2단계 효과': [val for val in step_2_effects],\n",
    "                  '3단계 효과': [val for val in step_3_effects],\n",
    "                  '4단계 효과': [val for val in step_4_effects]\n",
    "   }\n",
    "   columns = ['팀 컬러','팀 컬러 설명','1단계 적용 조건','2단계 적용 조건','3단계 적용 조건','4단계 적용 조건','1단계 효과','2단계 효과','3단계 효과','4단계 효과']\n",
    "   \n",
    "   teamcolor_naming = ['클럽_팀_컬러','국가_팀_컬러','관계_팀_컬러','스페셜_팀_컬러','강화_팀_컬러']\n",
    "\n",
    "   globals()[f'df_{teamcolor_naming[count]}'] = pd.DataFrame(data = dict_temp, columns=columns)\n",
    "   \n",
    "   # csv파일로 저장\n",
    "   # globals()[f'df_{teamcolor_naming[count]}'].to_csv(f'{teamcolor_naming[count]}', encoding='utf-8-sig', index = False)\n",
    "   \n",
    "   count += 1\n",
    "   \n",
    "   time.sleep(A)\n",
    "   \n"
   ]
  },
  {
   "cell_type": "code",
   "execution_count": null,
   "metadata": {},
   "outputs": [],
   "source": [
    "# 관계 팀 컬러 적용 선수 추가 크롤링\n",
    "require_season = []\n",
    "        \n",
    "# '관계 팀 컬러'일 때, 선수 목록도 저장\n",
    "if  teamcolors in teamcolor_relation:\n",
    "   temp_0 = driver.find_element_by_class_name('info_top').text()\n",
    "   require_season.append(temp_0)\n",
    "else:\n",
    "   pass"
   ]
  },
  {
   "cell_type": "code",
   "execution_count": 141,
   "metadata": {},
   "outputs": [
    {
     "data": {
      "text/html": [
       "<div>\n",
       "<style scoped>\n",
       "    .dataframe tbody tr th:only-of-type {\n",
       "        vertical-align: middle;\n",
       "    }\n",
       "\n",
       "    .dataframe tbody tr th {\n",
       "        vertical-align: top;\n",
       "    }\n",
       "\n",
       "    .dataframe thead th {\n",
       "        text-align: right;\n",
       "    }\n",
       "</style>\n",
       "<table border=\"1\" class=\"dataframe\">\n",
       "  <thead>\n",
       "    <tr style=\"text-align: right;\">\n",
       "      <th></th>\n",
       "      <th>팀 컬러</th>\n",
       "      <th>팀 컬러 설명</th>\n",
       "      <th>1단계 적용 조건</th>\n",
       "      <th>2단계 적용 조건</th>\n",
       "      <th>3단계 적용 조건</th>\n",
       "      <th>4단계 적용 조건</th>\n",
       "      <th>1단계 효과</th>\n",
       "      <th>2단계 효과</th>\n",
       "      <th>3단계 효과</th>\n",
       "      <th>4단계 효과</th>\n",
       "    </tr>\n",
       "  </thead>\n",
       "  <tbody>\n",
       "    <tr>\n",
       "      <th>0</th>\n",
       "      <td>1. FC 우니온 베를린</td>\n",
       "      <td>1. FC 우니온 베를린 선수들로 구성된 팀컬러입니다.</td>\n",
       "      <td>3명</td>\n",
       "      <td>8명</td>\n",
       "      <td>10명</td>\n",
       "      <td>11명</td>\n",
       "      <td>전체 능력치 +1 /  /  /</td>\n",
       "      <td>전체 능력치 +3 /  /  /</td>\n",
       "      <td>전체 능력치 +3 / 크로스 +2 / 점프 +1 /</td>\n",
       "      <td>전체 능력치 +4 / 크로스 +3 / 점프 +3 /</td>\n",
       "    </tr>\n",
       "    <tr>\n",
       "      <th>1</th>\n",
       "      <td>1. FC 쾰른</td>\n",
       "      <td>1. FC 쾰른 선수들로 구성된 팀컬러입니다.</td>\n",
       "      <td>3명</td>\n",
       "      <td>8명</td>\n",
       "      <td>10명</td>\n",
       "      <td>11명</td>\n",
       "      <td>전체 능력치 +1 /  /  /</td>\n",
       "      <td>전체 능력치 +3 /  /  /</td>\n",
       "      <td>전체 능력치 +3 / 가속력 +2 / 스태미너 +1 /</td>\n",
       "      <td>전체 능력치 +4 / 가속력 +3 / 스태미너 +3 /</td>\n",
       "    </tr>\n",
       "    <tr>\n",
       "      <th>2</th>\n",
       "      <td>1. FSV 마인츠 05</td>\n",
       "      <td>1. FSV 마인츠 05 선수들로 구성된 팀컬러입니다.</td>\n",
       "      <td>3명</td>\n",
       "      <td>8명</td>\n",
       "      <td>10명</td>\n",
       "      <td>11명</td>\n",
       "      <td>전체 능력치 +1 /  /  /</td>\n",
       "      <td>전체 능력치 +3 /  /  /</td>\n",
       "      <td>전체 능력치 +3 / 가로채기 +2 / 위치 선정 +1 /</td>\n",
       "      <td>전체 능력치 +4 / 가로채기 +3 / 위치 선정 +3 /</td>\n",
       "    </tr>\n",
       "    <tr>\n",
       "      <th>3</th>\n",
       "      <td>19 New Generation</td>\n",
       "      <td>19 New Generation 클래스 선수들로 구성된 팀컬러입니다.</td>\n",
       "      <td>3명</td>\n",
       "      <td>8명</td>\n",
       "      <td>10명</td>\n",
       "      <td>-</td>\n",
       "      <td>전체 능력치 +1 /  /  /</td>\n",
       "      <td>전체 능력치 +2 /  /  /</td>\n",
       "      <td>전체 능력치 +3 /  /  /</td>\n",
       "      <td>-</td>\n",
       "    </tr>\n",
       "    <tr>\n",
       "      <th>4</th>\n",
       "      <td>20 New Generation</td>\n",
       "      <td>20 New Generation 클래스 선수들로 구성된 팀컬러입니다.</td>\n",
       "      <td>3명</td>\n",
       "      <td>8명</td>\n",
       "      <td>10명</td>\n",
       "      <td>-</td>\n",
       "      <td>전체 능력치 +1 /  /  /</td>\n",
       "      <td>전체 능력치 +2 /  /  /</td>\n",
       "      <td>전체 능력치 +3 /  /  /</td>\n",
       "      <td>-</td>\n",
       "    </tr>\n",
       "  </tbody>\n",
       "</table>\n",
       "</div>"
      ],
      "text/plain": [
       "                팀 컬러                                 팀 컬러 설명 1단계 적용 조건  \\\n",
       "0      1. FC 우니온 베를린          1. FC 우니온 베를린 선수들로 구성된 팀컬러입니다.        3명   \n",
       "1           1. FC 쾰른               1. FC 쾰른 선수들로 구성된 팀컬러입니다.        3명   \n",
       "2      1. FSV 마인츠 05          1. FSV 마인츠 05 선수들로 구성된 팀컬러입니다.        3명   \n",
       "3  19 New Generation  19 New Generation 클래스 선수들로 구성된 팀컬러입니다.        3명   \n",
       "4  20 New Generation  20 New Generation 클래스 선수들로 구성된 팀컬러입니다.        3명   \n",
       "\n",
       "  2단계 적용 조건 3단계 적용 조건 4단계 적용 조건              1단계 효과              2단계 효과  \\\n",
       "0        8명       10명       11명  전체 능력치 +1 /  /  /   전체 능력치 +3 /  /  /    \n",
       "1        8명       10명       11명  전체 능력치 +1 /  /  /   전체 능력치 +3 /  /  /    \n",
       "2        8명       10명       11명  전체 능력치 +1 /  /  /   전체 능력치 +3 /  /  /    \n",
       "3        8명       10명         -  전체 능력치 +1 /  /  /   전체 능력치 +2 /  /  /    \n",
       "4        8명       10명         -  전체 능력치 +1 /  /  /   전체 능력치 +2 /  /  /    \n",
       "\n",
       "                              3단계 효과                             4단계 효과  \n",
       "0      전체 능력치 +3 / 크로스 +2 / 점프 +1 /       전체 능력치 +4 / 크로스 +3 / 점프 +3 /   \n",
       "1    전체 능력치 +3 / 가속력 +2 / 스태미너 +1 /     전체 능력치 +4 / 가속력 +3 / 스태미너 +3 /   \n",
       "2  전체 능력치 +3 / 가로채기 +2 / 위치 선정 +1 /   전체 능력치 +4 / 가로채기 +3 / 위치 선정 +3 /   \n",
       "3                 전체 능력치 +3 /  /  /                                   -  \n",
       "4                 전체 능력치 +3 /  /  /                                   -  "
      ]
     },
     "execution_count": 141,
     "metadata": {},
     "output_type": "execute_result"
    }
   ],
   "source": [
    "df_클럽_팀_컬러"
   ]
  },
  {
   "cell_type": "code",
   "execution_count": 142,
   "metadata": {},
   "outputs": [
    {
     "data": {
      "text/html": [
       "<div>\n",
       "<style scoped>\n",
       "    .dataframe tbody tr th:only-of-type {\n",
       "        vertical-align: middle;\n",
       "    }\n",
       "\n",
       "    .dataframe tbody tr th {\n",
       "        vertical-align: top;\n",
       "    }\n",
       "\n",
       "    .dataframe thead th {\n",
       "        text-align: right;\n",
       "    }\n",
       "</style>\n",
       "<table border=\"1\" class=\"dataframe\">\n",
       "  <thead>\n",
       "    <tr style=\"text-align: right;\">\n",
       "      <th></th>\n",
       "      <th>팀 컬러</th>\n",
       "      <th>팀 컬러 설명</th>\n",
       "      <th>1단계 적용 조건</th>\n",
       "      <th>2단계 적용 조건</th>\n",
       "      <th>3단계 적용 조건</th>\n",
       "      <th>4단계 적용 조건</th>\n",
       "      <th>1단계 효과</th>\n",
       "      <th>2단계 효과</th>\n",
       "      <th>3단계 효과</th>\n",
       "      <th>4단계 효과</th>\n",
       "    </tr>\n",
       "  </thead>\n",
       "  <tbody>\n",
       "    <tr>\n",
       "      <th>0</th>\n",
       "      <td>가나</td>\n",
       "      <td></td>\n",
       "      <td>3명</td>\n",
       "      <td>8명</td>\n",
       "      <td>10명</td>\n",
       "      <td>11명</td>\n",
       "      <td>전체 능력치 +1 /  /  /</td>\n",
       "      <td>전체 능력치 +3 /  /  /</td>\n",
       "      <td>전체 능력치 +3 / 볼 컨트롤 +2 / 속력 +1 /</td>\n",
       "      <td>전체 능력치 +4 / 볼 컨트롤 +3 / 속력 +3 /</td>\n",
       "    </tr>\n",
       "    <tr>\n",
       "      <th>1</th>\n",
       "      <td>그리스</td>\n",
       "      <td>그리스 선수들로 구성된 팀컬러입니다.</td>\n",
       "      <td>3명</td>\n",
       "      <td>8명</td>\n",
       "      <td>10명</td>\n",
       "      <td>11명</td>\n",
       "      <td>전체 능력치 +1 /  /  /</td>\n",
       "      <td>전체 능력치 +3 /  /  /</td>\n",
       "      <td>전체 능력치 +3 / 반응 속도 +2 / 위치 선정 +1 /</td>\n",
       "      <td>전체 능력치 +4 / 반응 속도 +3 / 위치 선정 +3 /</td>\n",
       "    </tr>\n",
       "    <tr>\n",
       "      <th>2</th>\n",
       "      <td>나이지리아</td>\n",
       "      <td>나이지리아 선수들로 구성된 팀컬러입니다.</td>\n",
       "      <td>3명</td>\n",
       "      <td>8명</td>\n",
       "      <td>10명</td>\n",
       "      <td>11명</td>\n",
       "      <td>전체 능력치 +1 /  /  /</td>\n",
       "      <td>전체 능력치 +3 /  /  /</td>\n",
       "      <td>전체 능력치 +3 / 가속력 +2 / 가로채기 +1 /</td>\n",
       "      <td>전체 능력치 +4 / 가속력 +3 / 가로채기 +3 /</td>\n",
       "    </tr>\n",
       "    <tr>\n",
       "      <th>3</th>\n",
       "      <td>남아프리카공화국</td>\n",
       "      <td>남아프리카공화국 선수들로 구성된 팀컬러입니다.</td>\n",
       "      <td>3명</td>\n",
       "      <td>8명</td>\n",
       "      <td>10명</td>\n",
       "      <td>11명</td>\n",
       "      <td>전체 능력치 +1 /  /  /</td>\n",
       "      <td>전체 능력치 +3 /  /  /</td>\n",
       "      <td>전체 능력치 +3 / 헤더 +2 / 적극성 +1 /</td>\n",
       "      <td>전체 능력치 +4 / 헤더 +3 / 적극성 +3 /</td>\n",
       "    </tr>\n",
       "    <tr>\n",
       "      <th>4</th>\n",
       "      <td>네덜란드</td>\n",
       "      <td>네덜란드 선수들로 구성된 팀컬러입니다.</td>\n",
       "      <td>3명</td>\n",
       "      <td>8명</td>\n",
       "      <td>10명</td>\n",
       "      <td>11명</td>\n",
       "      <td>전체 능력치 +1 /  /  /</td>\n",
       "      <td>전체 능력치 +3 /  /  /</td>\n",
       "      <td>전체 능력치 +3 / 태클 +2 / 중거리 슛 +1 /</td>\n",
       "      <td>전체 능력치 +4 / 태클 +3 / 중거리 슛 +3 /</td>\n",
       "    </tr>\n",
       "  </tbody>\n",
       "</table>\n",
       "</div>"
      ],
      "text/plain": [
       "       팀 컬러                    팀 컬러 설명 1단계 적용 조건 2단계 적용 조건 3단계 적용 조건  \\\n",
       "0        가나                                   3명        8명       10명   \n",
       "1       그리스       그리스 선수들로 구성된 팀컬러입니다.        3명        8명       10명   \n",
       "2     나이지리아     나이지리아 선수들로 구성된 팀컬러입니다.        3명        8명       10명   \n",
       "3  남아프리카공화국  남아프리카공화국 선수들로 구성된 팀컬러입니다.        3명        8명       10명   \n",
       "4      네덜란드      네덜란드 선수들로 구성된 팀컬러입니다.        3명        8명       10명   \n",
       "\n",
       "  4단계 적용 조건              1단계 효과              2단계 효과  \\\n",
       "0       11명  전체 능력치 +1 /  /  /   전체 능력치 +3 /  /  /    \n",
       "1       11명  전체 능력치 +1 /  /  /   전체 능력치 +3 /  /  /    \n",
       "2       11명  전체 능력치 +1 /  /  /   전체 능력치 +3 /  /  /    \n",
       "3       11명  전체 능력치 +1 /  /  /   전체 능력치 +3 /  /  /    \n",
       "4       11명  전체 능력치 +1 /  /  /   전체 능력치 +3 /  /  /    \n",
       "\n",
       "                               3단계 효과                              4단계 효과  \n",
       "0     전체 능력치 +3 / 볼 컨트롤 +2 / 속력 +1 /      전체 능력치 +4 / 볼 컨트롤 +3 / 속력 +3 /   \n",
       "1  전체 능력치 +3 / 반응 속도 +2 / 위치 선정 +1 /   전체 능력치 +4 / 반응 속도 +3 / 위치 선정 +3 /   \n",
       "2     전체 능력치 +3 / 가속력 +2 / 가로채기 +1 /      전체 능력치 +4 / 가속력 +3 / 가로채기 +3 /   \n",
       "3       전체 능력치 +3 / 헤더 +2 / 적극성 +1 /        전체 능력치 +4 / 헤더 +3 / 적극성 +3 /   \n",
       "4     전체 능력치 +3 / 태클 +2 / 중거리 슛 +1 /      전체 능력치 +4 / 태클 +3 / 중거리 슛 +3 /   "
      ]
     },
     "execution_count": 142,
     "metadata": {},
     "output_type": "execute_result"
    }
   ],
   "source": [
    "df_국가_팀_컬러"
   ]
  }
 ],
 "metadata": {
  "colab": {
   "authorship_tag": "ABX9TyNUiWwW4S73kUrvO92un0zC",
   "collapsed_sections": [],
   "provenance": []
  },
  "kernelspec": {
   "display_name": "Python 3.8.13 ('dl')",
   "language": "python",
   "name": "python3"
  },
  "language_info": {
   "codemirror_mode": {
    "name": "ipython",
    "version": 3
   },
   "file_extension": ".py",
   "mimetype": "text/x-python",
   "name": "python",
   "nbconvert_exporter": "python",
   "pygments_lexer": "ipython3",
   "version": "3.8.13"
  },
  "vscode": {
   "interpreter": {
    "hash": "8890d967a3cc38373f9889d35378a8bac40ddfa5895fd80ec8888f1cccb79c48"
   }
  }
 },
 "nbformat": 4,
 "nbformat_minor": 1
}
