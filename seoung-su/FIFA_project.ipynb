{
 "cells": [
  {
   "cell_type": "markdown",
   "metadata": {
    "id": "DOuL_vkiXDNe"
   },
   "source": [
    "# 0. selenium 설치"
   ]
  },
  {
   "cell_type": "code",
   "execution_count": 12,
   "metadata": {
    "id": "iBiuIuRiFBMQ"
   },
   "outputs": [
    {
     "name": "stdout",
     "output_type": "stream",
     "text": [
      "Requirement already satisfied: selenium in /Users/krc/downloads/yes/envs/dl/lib/python3.8/site-packages (4.2.0)\n",
      "Requirement already satisfied: trio~=0.17 in /Users/krc/downloads/yes/envs/dl/lib/python3.8/site-packages (from selenium) (0.21.0)\n",
      "Requirement already satisfied: trio-websocket~=0.9 in /Users/krc/downloads/yes/envs/dl/lib/python3.8/site-packages (from selenium) (0.9.2)\n",
      "Requirement already satisfied: urllib3[secure,socks]~=1.26 in /Users/krc/downloads/yes/envs/dl/lib/python3.8/site-packages (from selenium) (1.26.9)\n",
      "Requirement already satisfied: sortedcontainers in /Users/krc/downloads/yes/envs/dl/lib/python3.8/site-packages (from trio~=0.17->selenium) (2.4.0)\n",
      "Requirement already satisfied: sniffio in /Users/krc/downloads/yes/envs/dl/lib/python3.8/site-packages (from trio~=0.17->selenium) (1.2.0)\n",
      "Requirement already satisfied: idna in /Users/krc/downloads/yes/envs/dl/lib/python3.8/site-packages (from trio~=0.17->selenium) (3.3)\n",
      "Requirement already satisfied: outcome in /Users/krc/downloads/yes/envs/dl/lib/python3.8/site-packages (from trio~=0.17->selenium) (1.2.0)\n",
      "Requirement already satisfied: attrs>=19.2.0 in /Users/krc/downloads/yes/envs/dl/lib/python3.8/site-packages (from trio~=0.17->selenium) (21.4.0)\n",
      "Requirement already satisfied: async-generator>=1.9 in /Users/krc/downloads/yes/envs/dl/lib/python3.8/site-packages (from trio~=0.17->selenium) (1.10)\n",
      "Requirement already satisfied: wsproto>=0.14 in /Users/krc/downloads/yes/envs/dl/lib/python3.8/site-packages (from trio-websocket~=0.9->selenium) (1.1.0)\n",
      "Requirement already satisfied: certifi in /Users/krc/downloads/yes/envs/dl/lib/python3.8/site-packages (from urllib3[secure,socks]~=1.26->selenium) (2022.6.15)\n",
      "Requirement already satisfied: cryptography>=1.3.4 in /Users/krc/downloads/yes/envs/dl/lib/python3.8/site-packages (from urllib3[secure,socks]~=1.26->selenium) (37.0.2)\n",
      "Requirement already satisfied: pyOpenSSL>=0.14 in /Users/krc/downloads/yes/envs/dl/lib/python3.8/site-packages (from urllib3[secure,socks]~=1.26->selenium) (22.0.0)\n",
      "Requirement already satisfied: PySocks!=1.5.7,<2.0,>=1.5.6 in /Users/krc/downloads/yes/envs/dl/lib/python3.8/site-packages (from urllib3[secure,socks]~=1.26->selenium) (1.7.1)\n",
      "Requirement already satisfied: cffi>=1.12 in /Users/krc/downloads/yes/envs/dl/lib/python3.8/site-packages (from cryptography>=1.3.4->urllib3[secure,socks]~=1.26->selenium) (1.15.0)\n",
      "Requirement already satisfied: h11<1,>=0.9.0 in /Users/krc/downloads/yes/envs/dl/lib/python3.8/site-packages (from wsproto>=0.14->trio-websocket~=0.9->selenium) (0.13.0)\n",
      "Requirement already satisfied: pycparser in /Users/krc/downloads/yes/envs/dl/lib/python3.8/site-packages (from cffi>=1.12->cryptography>=1.3.4->urllib3[secure,socks]~=1.26->selenium) (2.21)\n"
     ]
    }
   ],
   "source": [
    "!pip install selenium"
   ]
  },
  {
   "cell_type": "code",
   "execution_count": 13,
   "metadata": {
    "id": "-gI9vEtqFN-p"
   },
   "outputs": [
    {
     "name": "stdout",
     "output_type": "stream",
     "text": [
      "Requirement already satisfied: chromedriver_autoinstaller in /Users/krc/downloads/yes/envs/dl/lib/python3.8/site-packages (0.3.1)\n"
     ]
    }
   ],
   "source": [
    "!pip install chromedriver_autoinstaller"
   ]
  },
  {
   "cell_type": "markdown",
   "metadata": {
    "id": "tW1J0fafRFh-"
   },
   "source": [
    "# 1. 데이터 불러오기"
   ]
  },
  {
   "cell_type": "code",
   "execution_count": 14,
   "metadata": {
    "colab": {
     "base_uri": "https://localhost:8080/"
    },
    "executionInfo": {
     "elapsed": 12,
     "status": "ok",
     "timestamp": 1668149039379,
     "user": {
      "displayName": "닉넴결정장애",
      "userId": "01530516573951758103"
     },
     "user_tz": -540
    },
    "id": "HRecFu-uYsTV",
    "outputId": "c6318b9a-4cec-4503-d07f-4addf6f0cc84"
   },
   "outputs": [],
   "source": [
    "import numpy as np\n",
    "import pandas as pd\n",
    "import requests # 크롤링에 사용하는 패키지\n",
    "from bs4 import BeautifulSoup # html 변환에 사용함\n",
    "\n",
    "\n",
    "from selenium import webdriver\n",
    "from selenium.webdriver.common.alert import Alert\n",
    "from selenium.webdriver.common.keys import Keys\n",
    "from selenium.webdriver import ActionChains as AC\n",
    "\n",
    "import chromedriver_autoinstaller\n",
    "\n",
    "# tqdm : for문 진행상황 체크\n",
    "from tqdm import tqdm, tqdm_notebook\n",
    "from tqdm.notebook import tqdm\n",
    "\n",
    "\n",
    "# 정규표현식(regular expression) : 문자(알파벳,한글), 숫자, 특수기호 정제 및 추출\n",
    "import re\n",
    "from time import sleep\n",
    "import time\n",
    "\n",
    "\n",
    "# 워닝 무시\n",
    "import warnings\n",
    "warnings.filterwarnings('ignore')"
   ]
  },
  {
   "cell_type": "code",
   "execution_count": 15,
   "metadata": {
    "colab": {
     "base_uri": "https://localhost:8080/",
     "height": 424
    },
    "executionInfo": {
     "elapsed": 9,
     "status": "ok",
     "timestamp": 1668149039379,
     "user": {
      "displayName": "닉넴결정장애",
      "userId": "01530516573951758103"
     },
     "user_tz": -540
    },
    "id": "O3ReNXU9VT4i",
    "outputId": "c01bc21d-d4ee-4873-cf74-0d6450d99373"
   },
   "outputs": [
    {
     "data": {
      "text/html": [
       "<div>\n",
       "<style scoped>\n",
       "    .dataframe tbody tr th:only-of-type {\n",
       "        vertical-align: middle;\n",
       "    }\n",
       "\n",
       "    .dataframe tbody tr th {\n",
       "        vertical-align: top;\n",
       "    }\n",
       "\n",
       "    .dataframe thead th {\n",
       "        text-align: right;\n",
       "    }\n",
       "</style>\n",
       "<table border=\"1\" class=\"dataframe\">\n",
       "  <thead>\n",
       "    <tr style=\"text-align: right;\">\n",
       "      <th></th>\n",
       "      <th>id</th>\n",
       "      <th>play_name</th>\n",
       "    </tr>\n",
       "  </thead>\n",
       "  <tbody>\n",
       "    <tr>\n",
       "      <th>0</th>\n",
       "      <td>0</td>\n",
       "      <td>데이비드 시먼</td>\n",
       "    </tr>\n",
       "    <tr>\n",
       "      <th>1</th>\n",
       "      <td>1</td>\n",
       "      <td>앨런 시어러</td>\n",
       "    </tr>\n",
       "    <tr>\n",
       "      <th>2</th>\n",
       "      <td>2</td>\n",
       "      <td>로비 파울러</td>\n",
       "    </tr>\n",
       "    <tr>\n",
       "      <th>3</th>\n",
       "      <td>3</td>\n",
       "      <td>로이 킨</td>\n",
       "    </tr>\n",
       "    <tr>\n",
       "      <th>4</th>\n",
       "      <td>4</td>\n",
       "      <td>라이언 긱스</td>\n",
       "    </tr>\n",
       "    <tr>\n",
       "      <th>...</th>\n",
       "      <td>...</td>\n",
       "      <td>...</td>\n",
       "    </tr>\n",
       "    <tr>\n",
       "      <th>59046</th>\n",
       "      <td>59046</td>\n",
       "      <td>A. 크나우프</td>\n",
       "    </tr>\n",
       "    <tr>\n",
       "      <th>59047</th>\n",
       "      <td>59047</td>\n",
       "      <td>K. 야키치</td>\n",
       "    </tr>\n",
       "    <tr>\n",
       "      <th>59048</th>\n",
       "      <td>59048</td>\n",
       "      <td>M. 구스토</td>\n",
       "    </tr>\n",
       "    <tr>\n",
       "      <th>59049</th>\n",
       "      <td>59049</td>\n",
       "      <td>G. 마마르다슈빌리</td>\n",
       "    </tr>\n",
       "    <tr>\n",
       "      <th>59050</th>\n",
       "      <td>59050</td>\n",
       "      <td>반데르송</td>\n",
       "    </tr>\n",
       "  </tbody>\n",
       "</table>\n",
       "<p>59051 rows × 2 columns</p>\n",
       "</div>"
      ],
      "text/plain": [
       "          id   play_name\n",
       "0          0     데이비드 시먼\n",
       "1          1      앨런 시어러\n",
       "2          2      로비 파울러\n",
       "3          3        로이 킨\n",
       "4          4      라이언 긱스\n",
       "...      ...         ...\n",
       "59046  59046     A. 크나우프\n",
       "59047  59047      K. 야키치\n",
       "59048  59048      M. 구스토\n",
       "59049  59049  G. 마마르다슈빌리\n",
       "59050  59050        반데르송\n",
       "\n",
       "[59051 rows x 2 columns]"
      ]
     },
     "execution_count": 15,
     "metadata": {},
     "output_type": "execute_result"
    }
   ],
   "source": [
    "# 선수명 csv파일 불러오기\n",
    "data = pd.read_csv('./data/player.csv')\n",
    "data"
   ]
  },
  {
   "cell_type": "markdown",
   "metadata": {
    "id": "Lmcte0tMRFiA"
   },
   "source": [
    "# 2. 데이터 크롤링"
   ]
  },
  {
   "cell_type": "code",
   "execution_count": 63,
   "metadata": {},
   "outputs": [],
   "source": [
    "## 크롬 윈도우 설정\n",
    "# 크롬 옵션\n",
    "options = webdriver.ChromeOptions()\n",
    "\n",
    "# 크롬 윈도우 사이즈 조절\n",
    "options.add_argument(\"--window-size=600,1400\")\n",
    "\n",
    "# 실행할 시간 랜덤값 지정\n",
    "A = np.random.randint(1,3)"
   ]
  },
  {
   "cell_type": "markdown",
   "metadata": {
    "id": "CZdx-_oASEHC"
   },
   "source": [
    "## 2-1. 선수 데이터 크롤링\n"
   ]
  },
  {
   "cell_type": "markdown",
   "metadata": {},
   "source": [
    "- 선수명\n",
    "- 급여\n",
    "- 키\n",
    "- 몸무게\n",
    "- 체형\n",
    "- 개인기\n",
    "- 주발\n",
    "- 오버롤 + 전체 스텟\n",
    "- 시세(일별 금액)\n",
    "- 클럽경력\n",
    "- 팀컬러 (팀, 특성, 강화)\n",
    "\n",
    "*시세의 경우 각 강화 등급별 크롤링! (나머지 값은 후처리로 기입)"
   ]
  },
  {
   "cell_type": "code",
   "execution_count": 10,
   "metadata": {
    "colab": {
     "base_uri": "https://localhost:8080/",
     "height": 49,
     "referenced_widgets": [
      "0f98a68653234bc9831f51c868631a48",
      "c88f5a8bb3124b1aa3882d8e0055773e",
      "654addbc01924b6e88bceaab9f51be91",
      "7bbd990e34a54110b4a7aed2363c8948",
      "60927d73c09d4c339a3d1b2b0d5186b9",
      "55ff4925449846deb228db9d17e7264a",
      "85966676e9c2480f8c09777f9f3345b5",
      "d1f963de710f43cfb773dfe32491e80a",
      "ca5a4066cf8542e5beb378885a8702f0",
      "5015e331c2a5431bbca0286aaee31d80",
      "38a17b480f8244b39169cc0e3afb0deb"
     ]
    },
    "executionInfo": {
     "elapsed": 589,
     "status": "ok",
     "timestamp": 1668149916292,
     "user": {
      "displayName": "닉넴결정장애",
      "userId": "01530516573951758103"
     },
     "user_tz": -540
    },
    "id": "T8lTo20aRFiB",
    "outputId": "d27090c2-1d64-43d7-b7d1-800fa736960d",
    "scrolled": true
   },
   "outputs": [
    {
     "data": {
      "application/vnd.jupyter.widget-view+json": {
       "model_id": "5d1d1d28fe43407b8121cd7230fe8d4b",
       "version_major": 2,
       "version_minor": 0
      },
      "text/plain": [
       "  0%|          | 0/5 [00:00<?, ?it/s]"
      ]
     },
     "metadata": {},
     "output_type": "display_data"
    },
    {
     "name": "stdout",
     "output_type": "stream",
     "text": [
      "error\n"
     ]
    }
   ],
   "source": [
    "# 선수 데이터 크롤링\n",
    "'''\n",
    "# 크롤링한 결과를 저장할 리스트\n",
    "name_list = []\n",
    "salary_list = []\n",
    "height_list = []\n",
    "weight_list = []\n",
    "skill_list = []\n",
    "prefer_foot = []\n",
    "overall_list = []\n",
    "stat_list = []\n",
    "price_list = []\n",
    "club_list = []\n",
    "teamcolor_list = []\n",
    "\n",
    "\n",
    "\n",
    "\n",
    "\n",
    "for player_name in tqdm(data['play_name'][:5]):\n",
    "    try:   \n",
    "        chrome_path = chromedriver_autoinstaller.install()\n",
    "        driver = webdriver.Chrome(chrome_path, options=options)\n",
    "        driver.get('https://fifaonline4.nexon.com/datacenter')\n",
    "        time.sleep(A)\n",
    "        \n",
    "        # 선수명 입력\n",
    "        driver.find_elements_by_css_selector('#searchName').click()\n",
    "        driver.find_element_by_name('strPlayerName').send_keys(f'{player_name}')\n",
    "        driver.find_elements_by_css_selector('#form1 > div.search_panel > div.search_input_submit > button.btn_search').click()\n",
    "        time.sleep(A)\n",
    "        \n",
    "    except:\n",
    "        print('error')\n",
    "        break\n",
    "        \n",
    "'''\n"
   ]
  },
  {
   "cell_type": "markdown",
   "metadata": {},
   "source": [
    "## 2-2. 팀 컬러 크롤링\n",
    "\n"
   ]
  },
  {
   "cell_type": "markdown",
   "metadata": {},
   "source": [
    "- 팀 컬러 명\n",
    "- 단계\n",
    "- 적용 효과\n",
    "\n",
    "*특성 팀 컬러의 경우'적용 선수' 추가"
   ]
  },
  {
   "cell_type": "code",
   "execution_count": 76,
   "metadata": {},
   "outputs": [
    {
     "data": {
      "application/vnd.jupyter.widget-view+json": {
       "model_id": "b352638d00df41c5b68bdbf8688002db",
       "version_major": 2,
       "version_minor": 0
      },
      "text/plain": [
       "  0%|          | 0/5 [00:00<?, ?it/s]"
      ]
     },
     "metadata": {},
     "output_type": "display_data"
    }
   ],
   "source": [
    "## 팀 컬러 목록 크롤링\n",
    "# 팀 컬러 타입 리스트\n",
    "teamcolor_club = []\n",
    "teamcolor_nation = []\n",
    "teamcolor_reinforce = []\n",
    "teamcolor_relation = []\n",
    "teamcolor_special =[]\n",
    "\n",
    "\n",
    "# 홈페이지 열기\n",
    "chrome_path = chromedriver_autoinstaller.install()\n",
    "driver = webdriver.Chrome(chrome_path, options=options)\n",
    "url = 'https://fifaonline4.nexon.com/datacenter/teamcolor?strTeamColorCategory=&strTeamColorType=&strTeamColorName='\n",
    "driver.get(url)\n",
    "time.sleep(A)\n",
    "        \n",
    "# 팀 컬러 정보 목록 저장\n",
    "for x in tqdm(range(2,7)):\n",
    "        driver.find_element_by_xpath(f'//*[@id=\"sForm\"]/div[3]/div[2]/div[2]/div/div/div[{x}]/label').click()\n",
    "        \n",
    "        ## 클럽\n",
    "        if x == 2:\n",
    "                driver.find_element_by_class_name('btn_search').click()\n",
    "                time.sleep(A)\n",
    "\n",
    "                locates = 'div.name'\n",
    "                elements = driver.find_elements_by_css_selector(locates)\n",
    "\n",
    "                for element in elements:\n",
    "                        teamcolor_club.append(element.text)\n",
    "                \n",
    "                \n",
    "        \n",
    "        elif x == 3:\n",
    "                driver.find_element_by_class_name('btn_search').click()\n",
    "                time.sleep(A)\n",
    "\n",
    "                locates = 'div.name'\n",
    "                elements = driver.find_elements_by_css_selector(locates)\n",
    "\n",
    "                for element in elements:\n",
    "                        teamcolor_nation.append(element.text)\n",
    "        \n",
    "        elif x == 4:\n",
    "                driver.find_element_by_class_name('btn_search').click()\n",
    "                time.sleep(A)\n",
    "\n",
    "                locates = 'div.name'\n",
    "                elements = driver.find_elements_by_css_selector(locates)\n",
    "\n",
    "                for element in elements:\n",
    "                        teamcolor_reinforce.append(element.text)\n",
    "                        \n",
    "        elif x == 5:\n",
    "                driver.find_element_by_class_name('btn_search').click()\n",
    "                time.sleep(A)\n",
    "\n",
    "                locates = 'div.name'\n",
    "                elements = driver.find_elements_by_css_selector(locates)\n",
    "\n",
    "                for element in elements:\n",
    "                        teamcolor_relation.append(element.text)\n",
    "                        \n",
    "        elif x == 6:\n",
    "                driver.find_element_by_class_name('btn_search').click()\n",
    "                time.sleep(A)\n",
    "\n",
    "                locates = 'div.name'\n",
    "                elements = driver.find_elements_by_css_selector(locates)\n",
    "\n",
    "                for element in elements:\n",
    "                        teamcolor_special.append(element.text)\n",
    "        \n",
    "        else:\n",
    "                print('not in range')\n",
    "        \n",
    "        driver.find_element_by_class_name('btn_reset').click()\n",
    "        time.sleep(A)\n",
    "        "
   ]
  },
  {
   "cell_type": "code",
   "execution_count": 85,
   "metadata": {},
   "outputs": [
    {
     "name": "stdout",
     "output_type": "stream",
     "text": [
      "192\n",
      "57\n",
      "3\n",
      "206\n",
      "8\n"
     ]
    }
   ],
   "source": [
    "# 팀 컬러 타입 모음\n",
    "teamcolor_type = [teamcolor_club,teamcolor_nation,teamcolor_reinforce,teamcolor_relation,teamcolor_special]\n",
    "\n",
    "for x in teamcolor_type:\n",
    "    print(len(x))"
   ]
  },
  {
   "cell_type": "code",
   "execution_count": 131,
   "metadata": {},
   "outputs": [
    {
     "data": {
      "application/vnd.jupyter.widget-view+json": {
       "model_id": "958adcac60d4496b830a43c008ee7ef1",
       "version_major": 2,
       "version_minor": 0
      },
      "text/plain": [
       "  0%|          | 0/2 [00:00<?, ?it/s]"
      ]
     },
     "metadata": {},
     "output_type": "display_data"
    },
    {
     "data": {
      "application/vnd.jupyter.widget-view+json": {
       "model_id": "43ccae04d3044f2bb6c294acfc560397",
       "version_major": 2,
       "version_minor": 0
      },
      "text/plain": [
       "  0%|          | 0/2 [00:00<?, ?it/s]"
      ]
     },
     "metadata": {},
     "output_type": "display_data"
    },
    {
     "ename": "ElementClickInterceptedException",
     "evalue": "Message: element click intercepted: Element <label for=\"search_value3_3\">...</label> is not clickable at point (537, 889). Other element would receive the click: <span class=\"ico ico_btn_top\">...</span>\n  (Session info: chrome=107.0.5304.110)\nStacktrace:\n0   chromedriver                        0x0000000103277938 chromedriver + 4745528\n1   chromedriver                        0x00000001031f9443 chromedriver + 4228163\n2   chromedriver                        0x0000000102e5cb68 chromedriver + 441192\n3   chromedriver                        0x0000000102ea1ceb chromedriver + 724203\n4   chromedriver                        0x0000000102e9f4ed chromedriver + 713965\n5   chromedriver                        0x0000000102e9ca34 chromedriver + 703028\n6   chromedriver                        0x0000000102e9b78d chromedriver + 698253\n7   chromedriver                        0x0000000102e8df61 chromedriver + 642913\n8   chromedriver                        0x0000000102ebad52 chromedriver + 826706\n9   chromedriver                        0x0000000102e8d6e5 chromedriver + 640741\n10  chromedriver                        0x0000000102ebaeae chromedriver + 827054\n11  chromedriver                        0x0000000102ed3144 chromedriver + 926020\n12  chromedriver                        0x0000000102ebab83 chromedriver + 826243\n13  chromedriver                        0x0000000102e8ba5d chromedriver + 633437\n14  chromedriver                        0x0000000102e8d0b1 chromedriver + 639153\n15  chromedriver                        0x000000010324580e chromedriver + 4540430\n16  chromedriver                        0x0000000103249f76 chromedriver + 4558710\n17  chromedriver                        0x0000000103251a1f chromedriver + 4590111\n18  chromedriver                        0x000000010324adca chromedriver + 4562378\n19  chromedriver                        0x00000001032209af chromedriver + 4389295\n20  chromedriver                        0x0000000103268cb8 chromedriver + 4684984\n21  chromedriver                        0x0000000103268e39 chromedriver + 4685369\n22  chromedriver                        0x000000010327f46e chromedriver + 4777070\n23  libsystem_pthread.dylib             0x00007ff8155d94e1 _pthread_start + 125\n24  libsystem_pthread.dylib             0x00007ff8155d4f6b thread_start + 15\n",
     "output_type": "error",
     "traceback": [
      "\u001b[0;31m---------------------------------------------------------------------------\u001b[0m",
      "\u001b[0;31mElementClickInterceptedException\u001b[0m          Traceback (most recent call last)",
      "\u001b[1;32m/Users/krc/Desktop/fifa/FIFA_project.ipynb 셀 16\u001b[0m in \u001b[0;36m<cell line: 9>\u001b[0;34m()\u001b[0m\n\u001b[1;32m     <a href='vscode-notebook-cell:/Users/krc/Desktop/fifa/FIFA_project.ipynb#X45sZmlsZQ%3D%3D?line=22'>23</a>\u001b[0m    driver\u001b[39m.\u001b[39mfind_element_by_xpath(\u001b[39m'\u001b[39m\u001b[39m//*[@id=\u001b[39m\u001b[39m\"\u001b[39m\u001b[39msForm\u001b[39m\u001b[39m\"\u001b[39m\u001b[39m]/div[3]/div[2]/div[2]/div/div/div[2]/label\u001b[39m\u001b[39m'\u001b[39m)\u001b[39m.\u001b[39mclick()\n\u001b[1;32m     <a href='vscode-notebook-cell:/Users/krc/Desktop/fifa/FIFA_project.ipynb#X45sZmlsZQ%3D%3D?line=23'>24</a>\u001b[0m \u001b[39melif\u001b[39;00m teamcolor \u001b[39m==\u001b[39m teamcolor_nation:\n\u001b[0;32m---> <a href='vscode-notebook-cell:/Users/krc/Desktop/fifa/FIFA_project.ipynb#X45sZmlsZQ%3D%3D?line=24'>25</a>\u001b[0m    driver\u001b[39m.\u001b[39;49mfind_element_by_xpath(\u001b[39m'\u001b[39;49m\u001b[39m//*[@id=\u001b[39;49m\u001b[39m\"\u001b[39;49m\u001b[39msForm\u001b[39;49m\u001b[39m\"\u001b[39;49m\u001b[39m]/div[3]/div[2]/div[2]/div/div/div[3]/label\u001b[39;49m\u001b[39m'\u001b[39;49m)\u001b[39m.\u001b[39;49mclick()\n\u001b[1;32m     <a href='vscode-notebook-cell:/Users/krc/Desktop/fifa/FIFA_project.ipynb#X45sZmlsZQ%3D%3D?line=25'>26</a>\u001b[0m \u001b[39melif\u001b[39;00m teamcolor \u001b[39m==\u001b[39m teamcolor_reinforce:\n\u001b[1;32m     <a href='vscode-notebook-cell:/Users/krc/Desktop/fifa/FIFA_project.ipynb#X45sZmlsZQ%3D%3D?line=26'>27</a>\u001b[0m    driver\u001b[39m.\u001b[39mfind_element_by_xpath(\u001b[39m'\u001b[39m\u001b[39m//*[@id=\u001b[39m\u001b[39m\"\u001b[39m\u001b[39msForm\u001b[39m\u001b[39m\"\u001b[39m\u001b[39m]/div[3]/div[2]/div[2]/div/div/div[4]/label\u001b[39m\u001b[39m'\u001b[39m)\u001b[39m.\u001b[39mclick() \n",
      "File \u001b[0;32m~/downloads/yes/envs/dl/lib/python3.8/site-packages/selenium/webdriver/remote/webelement.py:89\u001b[0m, in \u001b[0;36mWebElement.click\u001b[0;34m(self)\u001b[0m\n\u001b[1;32m     87\u001b[0m \u001b[39mdef\u001b[39;00m \u001b[39mclick\u001b[39m(\u001b[39mself\u001b[39m) \u001b[39m-\u001b[39m\u001b[39m>\u001b[39m \u001b[39mNone\u001b[39;00m:\n\u001b[1;32m     88\u001b[0m     \u001b[39m\"\"\"Clicks the element.\"\"\"\u001b[39;00m\n\u001b[0;32m---> 89\u001b[0m     \u001b[39mself\u001b[39;49m\u001b[39m.\u001b[39;49m_execute(Command\u001b[39m.\u001b[39;49mCLICK_ELEMENT)\n",
      "File \u001b[0;32m~/downloads/yes/envs/dl/lib/python3.8/site-packages/selenium/webdriver/remote/webelement.py:773\u001b[0m, in \u001b[0;36mWebElement._execute\u001b[0;34m(self, command, params)\u001b[0m\n\u001b[1;32m    771\u001b[0m     params \u001b[39m=\u001b[39m {}\n\u001b[1;32m    772\u001b[0m params[\u001b[39m'\u001b[39m\u001b[39mid\u001b[39m\u001b[39m'\u001b[39m] \u001b[39m=\u001b[39m \u001b[39mself\u001b[39m\u001b[39m.\u001b[39m_id\n\u001b[0;32m--> 773\u001b[0m \u001b[39mreturn\u001b[39;00m \u001b[39mself\u001b[39;49m\u001b[39m.\u001b[39;49m_parent\u001b[39m.\u001b[39;49mexecute(command, params)\n",
      "File \u001b[0;32m~/downloads/yes/envs/dl/lib/python3.8/site-packages/selenium/webdriver/remote/webdriver.py:430\u001b[0m, in \u001b[0;36mWebDriver.execute\u001b[0;34m(self, driver_command, params)\u001b[0m\n\u001b[1;32m    428\u001b[0m response \u001b[39m=\u001b[39m \u001b[39mself\u001b[39m\u001b[39m.\u001b[39mcommand_executor\u001b[39m.\u001b[39mexecute(driver_command, params)\n\u001b[1;32m    429\u001b[0m \u001b[39mif\u001b[39;00m response:\n\u001b[0;32m--> 430\u001b[0m     \u001b[39mself\u001b[39;49m\u001b[39m.\u001b[39;49merror_handler\u001b[39m.\u001b[39;49mcheck_response(response)\n\u001b[1;32m    431\u001b[0m     response[\u001b[39m'\u001b[39m\u001b[39mvalue\u001b[39m\u001b[39m'\u001b[39m] \u001b[39m=\u001b[39m \u001b[39mself\u001b[39m\u001b[39m.\u001b[39m_unwrap_value(\n\u001b[1;32m    432\u001b[0m         response\u001b[39m.\u001b[39mget(\u001b[39m'\u001b[39m\u001b[39mvalue\u001b[39m\u001b[39m'\u001b[39m, \u001b[39mNone\u001b[39;00m))\n\u001b[1;32m    433\u001b[0m     \u001b[39mreturn\u001b[39;00m response\n",
      "File \u001b[0;32m~/downloads/yes/envs/dl/lib/python3.8/site-packages/selenium/webdriver/remote/errorhandler.py:247\u001b[0m, in \u001b[0;36mErrorHandler.check_response\u001b[0;34m(self, response)\u001b[0m\n\u001b[1;32m    245\u001b[0m         alert_text \u001b[39m=\u001b[39m value[\u001b[39m'\u001b[39m\u001b[39malert\u001b[39m\u001b[39m'\u001b[39m]\u001b[39m.\u001b[39mget(\u001b[39m'\u001b[39m\u001b[39mtext\u001b[39m\u001b[39m'\u001b[39m)\n\u001b[1;32m    246\u001b[0m     \u001b[39mraise\u001b[39;00m exception_class(message, screen, stacktrace, alert_text)  \u001b[39m# type: ignore[call-arg]  # mypy is not smart enough here\u001b[39;00m\n\u001b[0;32m--> 247\u001b[0m \u001b[39mraise\u001b[39;00m exception_class(message, screen, stacktrace)\n",
      "\u001b[0;31mElementClickInterceptedException\u001b[0m: Message: element click intercepted: Element <label for=\"search_value3_3\">...</label> is not clickable at point (537, 889). Other element would receive the click: <span class=\"ico ico_btn_top\">...</span>\n  (Session info: chrome=107.0.5304.110)\nStacktrace:\n0   chromedriver                        0x0000000103277938 chromedriver + 4745528\n1   chromedriver                        0x00000001031f9443 chromedriver + 4228163\n2   chromedriver                        0x0000000102e5cb68 chromedriver + 441192\n3   chromedriver                        0x0000000102ea1ceb chromedriver + 724203\n4   chromedriver                        0x0000000102e9f4ed chromedriver + 713965\n5   chromedriver                        0x0000000102e9ca34 chromedriver + 703028\n6   chromedriver                        0x0000000102e9b78d chromedriver + 698253\n7   chromedriver                        0x0000000102e8df61 chromedriver + 642913\n8   chromedriver                        0x0000000102ebad52 chromedriver + 826706\n9   chromedriver                        0x0000000102e8d6e5 chromedriver + 640741\n10  chromedriver                        0x0000000102ebaeae chromedriver + 827054\n11  chromedriver                        0x0000000102ed3144 chromedriver + 926020\n12  chromedriver                        0x0000000102ebab83 chromedriver + 826243\n13  chromedriver                        0x0000000102e8ba5d chromedriver + 633437\n14  chromedriver                        0x0000000102e8d0b1 chromedriver + 639153\n15  chromedriver                        0x000000010324580e chromedriver + 4540430\n16  chromedriver                        0x0000000103249f76 chromedriver + 4558710\n17  chromedriver                        0x0000000103251a1f chromedriver + 4590111\n18  chromedriver                        0x000000010324adca chromedriver + 4562378\n19  chromedriver                        0x00000001032209af chromedriver + 4389295\n20  chromedriver                        0x0000000103268cb8 chromedriver + 4684984\n21  chromedriver                        0x0000000103268e39 chromedriver + 4685369\n22  chromedriver                        0x000000010327f46e chromedriver + 4777070\n23  libsystem_pthread.dylib             0x00007ff8155d94e1 _pthread_start + 125\n24  libsystem_pthread.dylib             0x00007ff8155d4f6b thread_start + 15\n"
     ]
    }
   ],
   "source": [
    "## 팀 컬러 타입 별 적용 조건 & 효과 저장\n",
    "# 홈페이지 열기\n",
    "chrome_path = chromedriver_autoinstaller.install()\n",
    "driver = webdriver.Chrome(chrome_path, options=options)\n",
    "url = 'https://fifaonline4.nexon.com/datacenter/teamcolor?strTeamColorCategory=&strTeamColorType=&strTeamColorName='\n",
    "driver.get(url)\n",
    "time.sleep(A)\n",
    "\n",
    "for teamcolor in teamcolor_type:\n",
    "   # 크롤링한 결과를 저장할 리스트\n",
    "   step_1_require_player_nums = []\n",
    "   step_2_require_player_nums = []\n",
    "   step_3_require_player_nums = []\n",
    "   step_4_require_player_nums = []\n",
    "   step_1_effects = []\n",
    "   step_2_effects = []\n",
    "   step_3_effects = []\n",
    "   step_4_effects = []\n",
    "   \n",
    "   for x in tqdm(teamcolor[:2]):\n",
    "      # 팀 컬러 타입 선택\n",
    "      if teamcolor == teamcolor_club:\n",
    "         driver.find_element_by_xpath('//*[@id=\"sForm\"]/div[3]/div[2]/div[2]/div/div/div[2]/label').click()\n",
    "      elif teamcolor == teamcolor_nation:\n",
    "         driver.find_element_by_xpath('//*[@id=\"sForm\"]/div[3]/div[2]/div[2]/div/div/div[3]/label').click()\n",
    "      elif teamcolor == teamcolor_reinforce:\n",
    "         driver.find_element_by_xpath('//*[@id=\"sForm\"]/div[3]/div[2]/div[2]/div/div/div[4]/label').click() \n",
    "      elif teamcolor == teamcolor_relation:\n",
    "         driver.find_element_by_xpath('//*[@id=\"sForm\"]/div[3]/div[2]/div[2]/div/div/div[5]/label').click() \n",
    "      elif teamcolor == teamcolor_special:\n",
    "         driver.find_element_by_xpath('//*[@id=\"sForm\"]/div[3]/div[2]/div[2]/div/div/div[6]/label').click()  \n",
    "\n",
    "      # 팀 컬러 입력 & 검색\n",
    "      driver.find_element_by_class_name('ui-autocomplete-input').click()\n",
    "      driver.find_element_by_class_name('ui-autocomplete-input').send_keys(x)\n",
    "      driver.find_element_by_class_name('btn_search').click()\n",
    "      time.sleep(A)\n",
    "\n",
    "      # 세부 설명 들어가기\n",
    "      driver.find_element_by_class_name('name').click()\n",
    "      driver.find_element_by_class_name('btn_detail_link').click()\n",
    "      time.sleep(A) \n",
    "\n",
    "      # # 단계 별 적용 조건 & 적용 효과 저장\n",
    "      # for num in range(1,5):\n",
    "      #     require_player_num = driver.find_element_by_css_selector(f'#teamcolorPop > div > div.wrap > div.content_header > div.content > div.level.lv{num} > div.lv_content > div.desc').text()\n",
    "      #     application_effect = driver.find_element_by_css_selector(f'#teamcolorPop > div > div.wrap > div.content_header > div.content > div.level.lv{num} > div.lv_content > div.ap_list').text()\n",
    "         \n",
    "      #     # 1단계\n",
    "      #     if num == 1:\n",
    "      #         step_1_require_player_nums.append(require_player_num)\n",
    "      #         step_1_effects.append(application_effect)\n",
    "\n",
    "      #     # 2단계\n",
    "      #     elif num == 2: \n",
    "      #         step_2_require_player_nums.append(require_player_num)\n",
    "      #         step_2_effects.append(application_effect)\n",
    "               \n",
    "               \n",
    "               \n",
    "\n",
    "      #     # 3단계\n",
    "      #     elif num == 3:\n",
    "      #         step_3_require_player_nums.append(require_player_num)\n",
    "      #         step_3_effects.append(application_effect)\n",
    "               \n",
    "               \n",
    "               \n",
    "         \n",
    "      #     # 4단계\n",
    "      #     elif num == 4:\n",
    "      #         step_4_require_player_nums.append(require_player_num)\n",
    "      #         step_4_effects.append(application_effect)\n",
    "         \n",
    "      #     else:\n",
    "      #         print('error')\n",
    "      \n",
    "      # 세부 설명 나오기\n",
    "      driver.find_element_by_class_name('btn_close').click()\n",
    "      time.sleep(A)\n",
    "\n",
    "      # 검색어 초기화 \n",
    "      driver.find_element_by_class_name('btn_reset').click()\n",
    "      time.sleep(A)\n",
    "\n"
   ]
  },
  {
   "cell_type": "code",
   "execution_count": 80,
   "metadata": {},
   "outputs": [
    {
     "data": {
      "text/plain": [
       "[]"
      ]
     },
     "execution_count": 80,
     "metadata": {},
     "output_type": "execute_result"
    }
   ],
   "source": [
    "step_1_effects"
   ]
  },
  {
   "cell_type": "markdown",
   "metadata": {},
   "source": [
    "#teamcolorPop > div > div.wrap > div.content_header > div.content > div.level.lv1 > div.lv_content > div.ap_list\n",
    "\n",
    "#teamcolorPop > div > div.wrap > div.content_header > div.content > div.level.lv2 > div.lv_content > div.ap_list"
   ]
  },
  {
   "cell_type": "code",
   "execution_count": null,
   "metadata": {},
   "outputs": [],
   "source": [
    "'''\n",
    "find_elements_by_tag_name:          Copy Element의 tag\n",
    "find_elements_by_xpath:             Copy XPath 또는 Copy full XPath\n",
    "find_elements_by_id:                Copy Element의 id attribute\n",
    "find_elements_by_class_name:        Copy Element의 class attribute\n",
    "find_elements_by_link_text:         Copy Element의 text\n",
    "find_elements_by_partial_link_text: Copy Element의 text중 일부\n",
    "find_elements_by_css_selector:      Copy selector\n",
    "\n",
    "\n",
    "'요소' 클릭:        \t.click('')   \n",
    "'요소' 더블 클릭:\t     .double_click('')   \n",
    "'텍스트' 입력:\t         .send_keys('')  \n",
    "'요소'에 '텍스트' 입력:\t  .send_keys_to_element('','')  \n",
    "'요소'로 마우스 이동:\t  .move_to_element('')\n",
    "스크롤 내리기:\t         .execute_script(\"window.scrollto();\")\n",
    "실행:                  .perform()\n",
    "\n",
    "\n",
    "\n",
    "'''"
   ]
  },
  {
   "cell_type": "code",
   "execution_count": null,
   "metadata": {},
   "outputs": [],
   "source": [
    "#teamcolorPop > div > div.wrap > div.content_header > div.content > div.level.lv4 > div.lv_content > div.desc\n",
    "\n",
    "#teamcolorPop > div > div.wrap > div.content_header > div.content > div.level.lv4 > div.lv_content > div.ap_list"
   ]
  }
 ],
 "metadata": {
  "colab": {
   "authorship_tag": "ABX9TyNUiWwW4S73kUrvO92un0zC",
   "collapsed_sections": [],
   "provenance": []
  },
  "kernelspec": {
   "display_name": "Python 3.8.13 ('dl')",
   "language": "python",
   "name": "python3"
  },
  "language_info": {
   "codemirror_mode": {
    "name": "ipython",
    "version": 3
   },
   "file_extension": ".py",
   "mimetype": "text/x-python",
   "name": "python",
   "nbconvert_exporter": "python",
   "pygments_lexer": "ipython3",
   "version": "3.8.13"
  },
  "vscode": {
   "interpreter": {
    "hash": "8890d967a3cc38373f9889d35378a8bac40ddfa5895fd80ec8888f1cccb79c48"
   }
  }
 },
 "nbformat": 4,
 "nbformat_minor": 1
}
